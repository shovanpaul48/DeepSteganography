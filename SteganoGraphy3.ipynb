{
  "nbformat": 4,
  "nbformat_minor": 0,
  "metadata": {
    "colab": {
      "provenance": [],
      "authorship_tag": "ABX9TyOM810c7ClAzIJWkEeY4OsC",
      "include_colab_link": true
    },
    "kernelspec": {
      "name": "python3",
      "display_name": "Python 3"
    },
    "language_info": {
      "name": "python"
    }
  },
  "cells": [
    {
      "cell_type": "markdown",
      "metadata": {
        "id": "view-in-github",
        "colab_type": "text"
      },
      "source": [
        "<a href=\"https://colab.research.google.com/github/shovanpaul48/DeepSteganography/blob/master/SteganoGraphy3.ipynb\" target=\"_parent\"><img src=\"https://colab.research.google.com/assets/colab-badge.svg\" alt=\"Open In Colab\"/></a>"
      ]
    },
    {
      "cell_type": "code",
      "execution_count": 1,
      "metadata": {
        "id": "-N4NShcLUmSG"
      },
      "outputs": [],
      "source": [
        "import numpy as np\n",
        "import tensorflow as tf\n",
        "import pickle\n",
        "\n",
        "import cv2\n",
        "import matplotlib.pyplot as plt\n",
        "%matplotlib inline\n",
        "from IPython import display\n",
        "\n",
        "\n",
        "%load_ext autoreload\n",
        "%autoreload 2"
      ]
    },
    {
      "cell_type": "code",
      "source": [
        "(x, y), (x_test, y_test) = tf.keras.datasets.cifar10.load_data()"
      ],
      "metadata": {
        "colab": {
          "base_uri": "https://localhost:8080/"
        },
        "id": "xtN9fhrdVOD2",
        "outputId": "276b95d8-eac2-4f69-ed3b-dfb25bb4f494"
      },
      "execution_count": 2,
      "outputs": [
        {
          "output_type": "stream",
          "name": "stdout",
          "text": [
            "Downloading data from https://www.cs.toronto.edu/~kriz/cifar-10-python.tar.gz\n",
            "170498071/170498071 [==============================] - 16s 0us/step\n"
          ]
        }
      ]
    },
    {
      "cell_type": "code",
      "source": [
        "x = x.astype(np.float32)\n",
        "x_test = x_test.astype(np.float32)"
      ],
      "metadata": {
        "id": "LK1e1GvuVP4e"
      },
      "execution_count": 3,
      "outputs": []
    },
    {
      "cell_type": "code",
      "source": [
        "# for when payload is grayscale\n",
        "# payload_train = np.mean(x, axis=-1)[:5000, :, :, np.newaxis]\n",
        "\n",
        "# for when payload is rgb\n",
        "payload_train = x[:5000]\n",
        "\n",
        "host_train = x[np.random.choice(np.arange(x.shape[0]), size=payload_train.shape[0])][:5000]\n",
        "\n",
        "# for when payload is grayscale\n",
        "payload_test = np.mean(x_test, axis=-1)[:500, :, :, np.newaxis]\n",
        "\n",
        "# for when payload is rgb\n",
        "payload_test = x[:500]\n",
        "\n",
        "host_test = x_test[np.random.choice(np.arange(x_test.shape[0]), size=payload_test.shape[0])][:500]"
      ],
      "metadata": {
        "id": "HZIoHcSLVRdl"
      },
      "execution_count": 4,
      "outputs": []
    },
    {
      "cell_type": "code",
      "source": [
        "# Instantiate the Dataset class\n",
        "train_dataset = tf.data.Dataset.from_tensor_slices((payload_train, host_train))"
      ],
      "metadata": {
        "id": "JW-6vknmVTkf"
      },
      "execution_count": 5,
      "outputs": []
    },
    {
      "cell_type": "code",
      "source": [
        "# Normalization function\n",
        "def normalize(payload, host):\n",
        "    payload = tf.image.per_image_standardization(payload)\n",
        "    host = tf.image.per_image_standardization(host)\n",
        "    return payload, host\n",
        "\n",
        "# Adding shuffle, normalization and batching operations to the dataset object\n",
        "train_dataset = train_dataset.map(normalize).shuffle(5000).batch(256, drop_remainder=True)"
      ],
      "metadata": {
        "id": "gY4mmIEzVXHz"
      },
      "execution_count": 6,
      "outputs": []
    },
    {
      "cell_type": "code",
      "source": [
        "# Instantiate the test Dataset class\n",
        "test_dataset = tf.data.Dataset.from_tensor_slices((payload_test, host_test))\n",
        "test_dataset = (test_dataset.map(normalize).batch(128, drop_remainder=True)).shuffle(500)"
      ],
      "metadata": {
        "id": "tgFYErjPVcw6"
      },
      "execution_count": 7,
      "outputs": []
    },
    {
      "cell_type": "code",
      "source": [
        "from tensorflow.keras import Model\n",
        "from tensorflow.keras.layers import Input"
      ],
      "metadata": {
        "id": "uCEzQP2DVdSp"
      },
      "execution_count": 8,
      "outputs": []
    },
    {
      "cell_type": "code",
      "source": [
        "tf.keras.backend.set_floatx('float32')\n",
        "tf.keras.backend.floatx()"
      ],
      "metadata": {
        "colab": {
          "base_uri": "https://localhost:8080/",
          "height": 36
        },
        "id": "o2zS-QkJVdWG",
        "outputId": "47f5f496-52b9-41aa-a059-7471be69691f"
      },
      "execution_count": 9,
      "outputs": [
        {
          "output_type": "execute_result",
          "data": {
            "text/plain": [
              "'float32'"
            ],
            "application/vnd.google.colaboratory.intrinsic+json": {
              "type": "string"
            }
          },
          "metadata": {},
          "execution_count": 9
        }
      ]
    },
    {
      "cell_type": "code",
      "source": [
        "# encoder.py\n",
        "from tensorflow.keras.models import Sequential\n",
        "from tensorflow.keras import Model\n",
        "from tensorflow.keras.layers import Dense, Flatten, Conv2D, Concatenate, Input\n",
        "\n",
        "class EncoderNetwork:\n",
        "    def __init__(self, carrier_shape=(32, 32, 3), payload_shape=(32, 32, 1)):\n",
        "        \n",
        "#         super(EncoderModel, self).__init__()\n",
        "        self.carrier_shape = carrier_shape\n",
        "        self.payload_shape = payload_shape\n",
        "        \n",
        "    def _init_branch_payload(self, payload):\n",
        "\n",
        "        self.branch__payload_conv_1 = Conv2D(16, 3, padding='same', activation='relu', kernel_initializer='he_normal', input_shape=self.payload_shape)(payload)\n",
        "        self.branch__payload_conv_2 = Conv2D(16, 3, padding='same', activation='relu', kernel_initializer='he_normal')(self.branch__payload_conv_1)\n",
        "        self.branch__payload_conv_3 = Conv2D(16, 3, padding='same', activation='relu', kernel_initializer='he_normal')(self.branch__payload_conv_2)\n",
        "        self.branch__payload_conv_4 = Conv2D(16, 3, padding='same', activation='relu', kernel_initializer='he_normal')(self.branch__payload_conv_3)\n",
        "        self.branch__payload_conv_5 = Conv2D(16, 3, padding='same', activation='relu', kernel_initializer='he_normal')(self.branch__payload_conv_4)\n",
        "        self.branch__payload_conv_6 = Conv2D(16, 3, padding='same', activation='relu', kernel_initializer='he_normal')(self.branch__payload_conv_5)\n",
        "        self.branch__payload_conv_7 = Conv2D(16, 3, padding='same', activation='relu', kernel_initializer='he_normal')(self.branch__payload_conv_6)\n",
        "        \n",
        "        self.payload_tensors = [self.branch__payload_conv_1, self.branch__payload_conv_2,\\\n",
        "                                self.branch__payload_conv_3, self.branch__payload_conv_4, self.branch__payload_conv_5,\\\n",
        "                                self.branch__payload_conv_6, self.branch__payload_conv_7]\n",
        "    \n",
        "    def _init_branch_carrier(self, carrier):\n",
        "        \n",
        "        self.branch_carrier_conv_1 = Conv2D(16, 3, padding='same', activation='relu', kernel_initializer='he_normal')(carrier)\n",
        "        self.branch_carrier_concat_1 = Concatenate()([self.branch_carrier_conv_1, self.branch__payload_conv_1])\n",
        "        \n",
        "        self.branch_carrier_conv_2 = Conv2D(16, 3, padding='same', activation='relu', kernel_initializer='he_normal')(self.branch_carrier_concat_1)\n",
        "        \n",
        "        self.branch_carrier_conv_3 = Conv2D(16, 3, padding='same', activation='relu', kernel_initializer='he_normal')(self.branch_carrier_conv_2)\n",
        "        self.branch_carrier_concat_2 = Concatenate()([self.branch_carrier_conv_3, self.branch__payload_conv_3])\n",
        "        \n",
        "        self.branch_carrier_conv_4 = Conv2D(16, 3, padding='same', activation='relu', kernel_initializer='he_normal')(self.branch_carrier_concat_2)\n",
        "        \n",
        "        self.branch_carrier_conv_5 = Conv2D(16, 3, padding='same', activation='relu', kernel_initializer='he_normal')(self.branch_carrier_conv_4)\n",
        "        self.branch_carrier_concat_3 = Concatenate()([self.branch_carrier_conv_5, self.branch__payload_conv_5])\n",
        "        \n",
        "        self.branch_carrier_conv_6 = Conv2D(16, 3, padding='same', activation='relu', kernel_initializer='he_normal')(self.branch_carrier_concat_3)\n",
        "        \n",
        "        self.branch_carrier_conv_7 = Conv2D(16, 3, padding='same', activation='relu', kernel_initializer='he_normal')(self.branch_carrier_conv_6)\n",
        "        self.branch_carrier_concat_4 = Concatenate()([self.branch_carrier_conv_7, self.branch__payload_conv_7])\n",
        "        \n",
        "        self.branch_carrier_conv_8 = Conv2D(16, 1, padding='same', activation='relu', kernel_initializer='he_normal')(self.branch_carrier_concat_4)\n",
        "        self.branch_carrier_conv_9 = Conv2D(8, 1, padding='same', activation='relu', kernel_initializer='he_normal')(self.branch_carrier_conv_8)\n",
        "        self.encoded_output = Conv2D(3, 1, padding='same', kernel_initializer='he_normal', name='encoded_output')(self.branch_carrier_conv_9)\n",
        "        \n",
        "        self.carrier_tensors = [self.branch_carrier_conv_1, self.branch_carrier_concat_1,\\\n",
        "                               self.branch_carrier_conv_2, self.branch_carrier_conv_3, self.branch_carrier_concat_2,\\\n",
        "                               self.branch_carrier_conv_4, self.branch_carrier_conv_5, self.branch_carrier_concat_3,\\\n",
        "                               self.branch_carrier_conv_6, self.branch_carrier_conv_7, self.branch_carrier_concat_4,\\\n",
        "                               self.branch_carrier_conv_8, self.branch_carrier_conv_9, self.encoded_output]\n",
        "    \n",
        "    def get_network(self, carrier, payload):\n",
        "        \n",
        "        self._init_branch_payload(payload)\n",
        "        self._init_branch_carrier(carrier)\n",
        "        \n",
        "        return self.encoded_output"
      ],
      "metadata": {
        "id": "_otqNVsSVdZm"
      },
      "execution_count": 10,
      "outputs": []
    },
    {
      "cell_type": "code",
      "source": [
        "# decoder.py\n",
        "\n",
        "from tensorflow.keras.models import Sequential\n",
        "from tensorflow.keras import Model\n",
        "from tensorflow.keras.layers import Dense, Flatten, Conv2D, Concatenate, Input\n",
        "\n",
        "class DecoderNetwork:\n",
        "    def __init__(self, target_image_shape = (32, 32, 1)):\n",
        "#         super(DecoderModel, self).__init__()\n",
        "        self.target_image_shape = target_image_shape\n",
        "        \n",
        "    def _init_network(self, input_):\n",
        "\n",
        "        self.conv_1 = Conv2D(16, 3, padding='same', activation='relu', kernel_initializer='he_normal')(input_)\n",
        "        self.conv_2 = Conv2D(16, 3, padding='same', activation='relu', kernel_initializer='he_normal')(self.conv_1)\n",
        "        self.conv_3 = Conv2D(8, 3, padding='same', activation='relu', kernel_initializer='he_normal')(self.conv_2)\n",
        "        self.conv_4 = Conv2D(8, 3, padding='same', activation='relu', kernel_initializer='he_normal')(self.conv_3)\n",
        "        self.conv_5 = Conv2D(3, 3, padding='same', activation='relu', kernel_initializer='he_normal')(self.conv_4)\n",
        "        self.conv_6 = Conv2D(3, 3, padding='same', activation='relu', kernel_initializer='he_normal')(self.conv_5)\n",
        "        self.decoded_output = Conv2D(self.target_image_shape[-1], self.target_image_shape[-1], padding='same', activation='relu', kernel_initializer='he_normal', name='decoded_output')(self.conv_6)\n",
        "        \n",
        "        self.decoder_tensors = [self.conv_1, self.conv_2,\\\n",
        "                                self.conv_3, self.conv_4, self.conv_5,\\\n",
        "                                self.conv_6, self.decoded_output]\n",
        "    \n",
        "    def get_network(self, encoder_output):\n",
        "        \n",
        "        self._init_network(encoder_output)\n",
        "\n",
        "        return self.decoded_output"
      ],
      "metadata": {
        "id": "_qlZQqueVdcs"
      },
      "execution_count": 11,
      "outputs": []
    },
    {
      "cell_type": "code",
      "source": [
        "carrier_image_shape=(32, 32, 3)\n",
        "payload_image_shape=(32, 32, 3)\n",
        "\n",
        "encoder_network = EncoderNetwork(carrier_shape=carrier_image_shape, payload_shape=payload_image_shape)\n",
        "decoder_network = DecoderNetwork(target_image_shape=payload_image_shape)"
      ],
      "metadata": {
        "id": "xJrEVMWIVdfS"
      },
      "execution_count": 12,
      "outputs": []
    },
    {
      "cell_type": "code",
      "source": [
        "input_carrier = Input(shape=carrier_image_shape, name='input_carrier')\n",
        "input_payload = Input(shape=payload_image_shape, name='input_payload')"
      ],
      "metadata": {
        "id": "aeT94UdhVdiD"
      },
      "execution_count": 13,
      "outputs": []
    },
    {
      "cell_type": "code",
      "source": [
        "encoded_output = encoder_network.get_network(input_carrier, input_payload)\n",
        "decoded_output = decoder_network.get_network(encoded_output)"
      ],
      "metadata": {
        "id": "CGjzXCQvVdkm"
      },
      "execution_count": 14,
      "outputs": []
    },
    {
      "cell_type": "code",
      "source": [
        "steganography_model = Model(inputs=[input_carrier, input_payload], outputs=[encoded_output, decoded_output])"
      ],
      "metadata": {
        "id": "ifdG9sE3Vdni"
      },
      "execution_count": 15,
      "outputs": []
    },
    {
      "cell_type": "code",
      "source": [
        "from tensorflow.keras.utils import plot_model\n",
        "plot_model(steganography_model, show_shapes=True)"
      ],
      "metadata": {
        "id": "xI_PEb3GVwJP"
      },
      "execution_count": null,
      "outputs": []
    },
    {
      "cell_type": "code",
      "source": [
        "steganography_model.summary()"
      ],
      "metadata": {
        "id": "XUKezqOFV3jH"
      },
      "execution_count": null,
      "outputs": []
    },
    {
      "cell_type": "code",
      "source": [
        "# Defining Loss Function\n",
        "\n",
        "@tf.function\n",
        "def loss_function(payload, host, encoder_output, decoder_output):\n",
        "    \n",
        "    loss = tf.math.reduce_mean(tf.math.squared_difference(payload, decoder_output)\\\n",
        "                           + tf.math.squared_difference(host, encoder_output))\n",
        "        \n",
        "    return loss\n"
      ],
      "metadata": {
        "id": "efFK_bv6V4gt"
      },
      "execution_count": 18,
      "outputs": []
    },
    {
      "cell_type": "code",
      "source": [
        "def custom_loss(input_):\n",
        "    def loss(y_true, y_pred):\n",
        "        return tf.math.reduce_mean(tf.math.squared_difference(y_true, y_pred))\n",
        "    return loss             "
      ],
      "metadata": {
        "id": "FxnuL2CNV4kY"
      },
      "execution_count": 19,
      "outputs": []
    },
    {
      "cell_type": "code",
      "source": [
        "optimizer = tf.keras.optimizers.Adam(0.0001)"
      ],
      "metadata": {
        "id": "m4U0D4gwV4uZ"
      },
      "execution_count": 20,
      "outputs": []
    },
    {
      "cell_type": "code",
      "source": [
        "a = None\n",
        "for payload, host in train_dataset.batch(5000):\n",
        "    a = host\n",
        "    break"
      ],
      "metadata": {
        "id": "Dj96-qqHWAW_"
      },
      "execution_count": 21,
      "outputs": []
    },
    {
      "cell_type": "code",
      "source": [
        "test_loss = tf.keras.metrics.Mean(name='test_loss')\n",
        "train_loss = tf.keras.metrics.Mean(name='train_loss')\n",
        "\n",
        "@tf.function\n",
        "def train_step(payload, host):\n",
        "    with tf.GradientTape() as tape:\n",
        "        encoded_host, decoded_payload = steganography_model([host, payload])\n",
        "        loss = loss_function(payload, host, encoded_host, decoded_payload)\n",
        "        train_loss(loss)\n",
        "    gradients = tape.gradient(loss, steganography_model.trainable_variables)\n",
        "    optimizer.apply_gradients(zip(gradients, steganography_model.trainable_variables))\n",
        "    \n",
        "    train_host_psnr = tf.reduce_mean(tf.image.psnr(host, encoded_host, 18))\n",
        "    train_payload_psnr = tf.reduce_mean(tf.image.psnr(payload, decoded_payload, 18))\n",
        "    \n",
        "    return train_host_psnr, train_payload_psnr\n",
        "\n",
        "\n",
        "\n",
        "@tf.function\n",
        "def test_step(payload, host):\n",
        "    encoded_host, decoded_payload = steganography_model([host, payload])\n",
        "    t_loss = loss_function(payload, host, encoded_host, decoded_payload)\n",
        "    test_loss(t_loss)\n",
        "    \n",
        "    test_host_psnr = tf.reduce_mean(tf.image.psnr(host, encoded_host, 18))\n",
        "    test_payload_psnr = tf.reduce_mean(tf.image.psnr(payload, decoded_payload, 18))\n",
        "    \n",
        "    return test_host_psnr, test_payload_psnr\n",
        "\n",
        "EPOCHS = 5\n",
        "SUMMARY_DIR = './summary'\n"
      ],
      "metadata": {
        "id": "nfSCEZZKWEHT"
      },
      "execution_count": 23,
      "outputs": []
    },
    {
      "cell_type": "code",
      "source": [
        "test_loss = tf.keras.metrics.Mean(name='test_loss') \n",
        "train_loss = tf.keras.metrics.Mean(name='train_loss')\n",
        "\n",
        "@tf.function\n",
        "def train_step(payload, host):\n",
        "    with tf.GradientTape() as tape:\n",
        "        encoded_host, decoded_payload = steganography_model([host, payload])\n",
        "        loss = loss_function(payload, host, encoded_host, decoded_payload)\n",
        "        train_loss(loss)\n",
        "    gradients = tape.gradient(loss, steganography_model.trainable_variables)\n",
        "    optimizer.apply_gradients(zip(gradients, steganography_model.trainable_variables))\n",
        "    \n",
        "    train_host_psnr = tf.reduce_mean(tf.image.psnr(host, encoded_host, 18))\n",
        "    train_payload_psnr = tf.reduce_mean(tf.image.psnr(payload, decoded_payload, 18))\n",
        "    \n",
        "    return train_host_psnr, train_payload_psnr\n",
        "\n",
        "\n",
        "\n",
        "@tf.function\n",
        "def test_step(payload, host):\n",
        "    encoded_host, decoded_payload = steganography_model([host, payload])\n",
        "    t_loss = loss_function(payload, host, encoded_host, decoded_payload)\n",
        "    test_loss(t_loss)\n",
        "    \n",
        "    test_host_psnr = tf.reduce_mean(tf.image.psnr(host, encoded_host, 18))\n",
        "    test_payload_psnr = tf.reduce_mean(tf.image.psnr(payload, decoded_payload, 18))\n",
        "    \n",
        "    return test_host_psnr, test_payload_psnr\n",
        "\n",
        "EPOCHS = 5\n",
        "SUMMARY_DIR = './summary'\n",
        "\n",
        "import time\n",
        "\n",
        "\n",
        "for epoch in range(EPOCHS):\n",
        "    start = time.time()\n",
        "    for payload, host in train_dataset:\n",
        "        train_host_psnr, train_payload_psnr = train_step(payload, host)\n",
        "\n",
        "    for payload, host in test_dataset:\n",
        "        test_host_psnr, test_payload_psnr = test_step(payload, host)\n",
        "\n",
        "    elapsed = time.time() - start\n",
        "    print('elapsed: %f' % elapsed)\n",
        "\n",
        "    template = 'Epoch {}, Train Loss: {}, Test Loss: {}, TrainH PSNR: {}, TrainP PSNR: {}, TestH PSNR: {}, TestP PSNR: {}'\n",
        "    print(template.format(epoch+1, train_loss.result(), test_loss.result(), train_host_psnr,\\\n",
        "                         train_payload_psnr, test_host_psnr, test_payload_psnr))\n",
        "\n",
        "    # Reset the metrics for the next epoch\n",
        "    test_loss.reset_states()\n",
        "\n",
        "print('Training Finished.')"
      ],
      "metadata": {
        "colab": {
          "base_uri": "https://localhost:8080/"
        },
        "id": "5nVAUMCgWExT",
        "outputId": "5f7eaebe-670f-440d-9d61-51b06af8fead"
      },
      "execution_count": 25,
      "outputs": [
        {
          "output_type": "stream",
          "name": "stdout",
          "text": [
            "elapsed: 98.947683\n",
            "Epoch 1, Train Loss: 2.6988277435302734, Test Loss: 2.159926176071167, TrainH PSNR: 24.60491371154785, TrainP PSNR: 25.108776092529297, TestH PSNR: 24.54463768005371, TestP PSNR: 25.110336303710938\n",
            "elapsed: 96.412995\n",
            "Epoch 2, Train Loss: 2.3802342414855957, Test Loss: 2.0207412242889404, TrainH PSNR: 25.058870315551758, TrainP PSNR: 25.10977554321289, TestH PSNR: 25.055824279785156, TestP PSNR: 25.111061096191406\n",
            "elapsed: 93.318645\n",
            "Epoch 3, Train Loss: 2.2523560523986816, Test Loss: 1.988136887550354, TrainH PSNR: 25.22615623474121, TrainP PSNR: 25.113740921020508, TestH PSNR: 25.146570205688477, TestP PSNR: 25.113611221313477\n",
            "elapsed: 91.684576\n",
            "Epoch 4, Train Loss: 2.1814210414886475, Test Loss: 1.9586186408996582, TrainH PSNR: 25.33318519592285, TrainP PSNR: 25.117412567138672, TestH PSNR: 25.27642822265625, TestP PSNR: 25.11566162109375\n",
            "elapsed: 89.949611\n",
            "Epoch 5, Train Loss: 2.131819486618042, Test Loss: 1.9207862615585327, TrainH PSNR: 25.48126983642578, TrainP PSNR: 25.113117218017578, TestH PSNR: 25.470651626586914, TestP PSNR: 25.122303009033203\n",
            "Training Finished.\n"
          ]
        }
      ]
    },
    {
      "cell_type": "code",
      "source": [
        "example_ids = np.arange(len(host_test))[:100]\n",
        "example_id = np.random.choice(example_ids)\n",
        "\n",
        "# showing host \n",
        "fig, axs = plt.subplots(ncols=2)\n",
        "\n",
        "host_example = host_test.astype(int)[example_id]\n",
        "payload_example = payload_test.astype(int)[example_id]\n",
        "# payload_example = np.concatenate((payload_example, np.zeros_like(payload_example), np.zeros_like(payload_example)), axis=-1)\n",
        "axs[0].imshow(host_example)\n",
        "axs[1].imshow(payload_example)"
      ],
      "metadata": {
        "colab": {
          "base_uri": "https://localhost:8080/",
          "height": 305
        },
        "id": "ioDbGsqJWE0I",
        "outputId": "14731eba-5d4f-4638-dedb-bccae9cc8a0c"
      },
      "execution_count": 26,
      "outputs": [
        {
          "output_type": "execute_result",
          "data": {
            "text/plain": [
              "<matplotlib.image.AxesImage at 0x7feba76c6370>"
            ]
          },
          "metadata": {},
          "execution_count": 26
        },
        {
          "output_type": "display_data",
          "data": {
            "text/plain": [
              "<Figure size 640x480 with 2 Axes>"
            ],
            "image/png": "[encoded data removed]"
          },
          "metadata": {}
        }
      ]
    },
    {
      "cell_type": "code",
      "source": [
        "# showing host \n",
        "fig, axs = plt.subplots(ncols=2)\n",
        "\n",
        "inference_dataset = tf.data.Dataset.from_tensor_slices((host_test[example_ids], payload_test[example_ids])).batch(len(example_ids))\n",
        "for host, payload in inference_dataset:\n",
        "    encoded_host, decoded_payload = steganography_model([host, payload])\n",
        "    host_outputs = encoded_host.numpy()\n",
        "    payload_output = decoded_payload.numpy()\n",
        "\n",
        "host_output = host_outputs.astype(int)[example_id]\n",
        "payload_output = payload_output.astype(int)[example_id]\n",
        "\n",
        "    \n",
        "# payload_output = np.concatenate((payload_output, np.zeros_like(payload_output), np.zeros_like(payload_output)), axis=-1)\n",
        "axs[0].imshow(host_output)\n",
        "axs[1].imshow(payload_output)"
      ],
      "metadata": {
        "colab": {
          "base_uri": "https://localhost:8080/",
          "height": 343
        },
        "id": "1Gcqs_QNWE3P",
        "outputId": "80049c4b-91f6-46df-adeb-7ecc2ea99ee7"
      },
      "execution_count": 27,
      "outputs": [
        {
          "output_type": "stream",
          "name": "stderr",
          "text": [
            "WARNING:matplotlib.image:Clipping input data to the valid range for imshow with RGB data ([0..1] for floats or [0..255] for integers).\n"
          ]
        },
        {
          "output_type": "execute_result",
          "data": {
            "text/plain": [
              "<matplotlib.image.AxesImage at 0x7feb795776d0>"
            ]
          },
          "metadata": {},
          "execution_count": 27
        },
        {
          "output_type": "display_data",
          "data": {
            "text/plain": [
              "<Figure size 640x480 with 2 Axes>"
            ],
            "image/png": "[encoded data removed]"
          },
          "metadata": {}
        }
      ]
    },
    {
      "cell_type": "code",
      "source": [],
      "metadata": {
        "id": "BqzcPBAOWE5h"
      },
      "execution_count": null,
      "outputs": []
    },
    {
      "cell_type": "code",
      "source": [],
      "metadata": {
        "id": "8mi6Qly9WFAo"
      },
      "execution_count": null,
      "outputs": []
    }
  ]
}